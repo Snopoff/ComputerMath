{
 "cells": [
  {
   "cell_type": "markdown",
   "metadata": {},
   "source": [
    "## Контрольная работа №5"
   ]
  },
  {
   "cell_type": "markdown",
   "metadata": {},
   "source": [
    "### Снопов Павел, 2 курс, 5 группа, КИМ №86"
   ]
  },
  {
   "cell_type": "code",
   "execution_count": 1,
   "metadata": {},
   "outputs": [],
   "source": [
    "import sympy as sp\n",
    "sp.init_printing()"
   ]
  },
  {
   "cell_type": "markdown",
   "metadata": {},
   "source": [
    "#### Номер 1"
   ]
  },
  {
   "cell_type": "code",
   "execution_count": 2,
   "metadata": {},
   "outputs": [],
   "source": [
    "Volume, X, Speed, t, k = sp.symbols('Volume, X, Speed, t, k')  #Volume - объем соли; X - общий объем\n",
    "X = 10*Volume\n"
   ]
  },
  {
   "cell_type": "code",
   "execution_count": null,
   "metadata": {},
   "outputs": [],
   "source": []
  },
  {
   "cell_type": "markdown",
   "metadata": {},
   "source": [
    "#### Номер 2"
   ]
  },
  {
   "cell_type": "code",
   "execution_count": 39,
   "metadata": {},
   "outputs": [],
   "source": [
    "x, y = sp.symbols(\"x,y\")"
   ]
  },
  {
   "cell_type": "code",
   "execution_count": 40,
   "metadata": {},
   "outputs": [
    {
     "data": {
      "image/png": "[encoded data removed]",
      "text/latex": [
       "$$x^{2} - y^{2} - 4 y + 8 = 0$$"
      ],
      "text/plain": [
       " 2    2              \n",
       "x  - y  - 4⋅y + 8 = 0"
      ]
     },
     "execution_count": 40,
     "metadata": {},
     "output_type": "execute_result"
    }
   ],
   "source": [
    "Eq1 = sp.Eq(x**2-4*y-y**2+8)\n",
    "Eq2 = sp.Eq(x*y,4)\n",
    "Eq3 = sp.Eq(y,x+3)\n",
    "Eq1"
   ]
  },
  {
   "cell_type": "code",
   "execution_count": 41,
   "metadata": {},
   "outputs": [
    {
     "data": {
      "image/png": "[encoded data removed]",
      "text/plain": [
       "<Figure size 432x288 with 1 Axes>"
      ]
     },
     "metadata": {
      "needs_background": "light"
     },
     "output_type": "display_data"
    }
   ],
   "source": [
    "plots = sp.plot_implicit(Eq1, show = False, line_color = \"red\")\n",
    "plots.append(sp.plot_implicit(Eq2, show = False, line_color = \"black\")[0])\n",
    "plots.append(sp.plot_implicit(Eq3, show = False, line_color = \"green\")[0])\n",
    "plots.show()"
   ]
  },
  {
   "cell_type": "markdown",
   "metadata": {},
   "source": [
    "Запишем функции, составленные из приведенных выше уравнений:"
   ]
  },
  {
   "cell_type": "code",
   "execution_count": 6,
   "metadata": {},
   "outputs": [],
   "source": [
    "f = sp.Function(\"f\", real = True)(x)  #соответствует Eq1 - red\n",
    "f = sp.sqrt(x**2+4) + 2 \n",
    "g = sp.Function(\"g\", real = True)(x)  #соответствует Eq2 - black\n",
    "g = 4/x\n",
    "h = sp.Function(\"h\", real = True)(x)  #соответствует Eq3 - green\n",
    "h = x+3"
   ]
  },
  {
   "cell_type": "markdown",
   "metadata": {},
   "source": [
    "Найдем точки пересечения функций:"
   ]
  },
  {
   "cell_type": "code",
   "execution_count": 7,
   "metadata": {},
   "outputs": [
    {
     "data": {
      "image/png": "[encoded data removed]",
      "text/latex": [
       "$$\\left ( 2, \\quad 2\\right )$$"
      ],
      "text/plain": [
       "(2, 2)"
      ]
     },
     "execution_count": 7,
     "metadata": {},
     "output_type": "execute_result"
    }
   ],
   "source": [
    "points1 = sp.solve([Eq1,Eq2], (x,y))[0]  #red-black\n",
    "points1"
   ]
  },
  {
   "cell_type": "code",
   "execution_count": 8,
   "metadata": {},
   "outputs": [
    {
     "data": {
      "image/png": "[encoded data removed]",
      "text/latex": [
       "$$\\left ( 1, \\quad 4\\right )$$"
      ],
      "text/plain": [
       "(1, 4)"
      ]
     },
     "execution_count": 8,
     "metadata": {},
     "output_type": "execute_result"
    }
   ],
   "source": [
    "points2 = sp.solve([Eq2,Eq3], (x,y))[1]  #black-green\n",
    "points2"
   ]
  },
  {
   "cell_type": "code",
   "execution_count": 9,
   "metadata": {},
   "outputs": [
    {
     "data": {
      "image/png": "[encoded data removed]",
      "text/latex": [
       "$$\\left ( - \\frac{13}{10}, \\quad \\frac{17}{10}\\right )$$"
      ],
      "text/plain": [
       "⎛-13   17⎞\n",
       "⎜────, ──⎟\n",
       "⎝ 10   10⎠"
      ]
     },
     "execution_count": 9,
     "metadata": {},
     "output_type": "execute_result"
    }
   ],
   "source": [
    "points3 = sp.solve([Eq1,Eq3], (x,y))[0]  #red-green\n",
    "points3"
   ]
  },
  {
   "cell_type": "code",
   "execution_count": 43,
   "metadata": {},
   "outputs": [
    {
     "data": {
      "image/png": "[encoded data removed]",
      "text/latex": [
       "$$4.02484433099485$$"
      ],
      "text/plain": [
       "4.02484433099485"
      ]
     },
     "execution_count": 43,
     "metadata": {},
     "output_type": "execute_result"
    }
   ],
   "source": [
    "Int = sp.integrate(h, (x,points3[0], points2[0])) - sp.integrate(f, (x,points3[0], points2[0]))  #1-ая область\n",
    "Int += sp.integrate(g, (x, points2[0], points1[0])) - sp.integrate(f, (x,points2[0], points1[0]))  #2-ая область\n",
    "Int.simplify().evalf()"
   ]
  },
  {
   "cell_type": "markdown",
   "metadata": {},
   "source": [
    "#### Номер 3"
   ]
  },
  {
   "cell_type": "code",
   "execution_count": 127,
   "metadata": {},
   "outputs": [],
   "source": [
    "x,y,a,b,c,d,t,p  = sp.symbols('x,y,a,b,c,d,t,p')"
   ]
  },
  {
   "cell_type": "markdown",
   "metadata": {},
   "source": [
    "Запишем уравнения прямых, площадь пересечения которых надо найти:"
   ]
  },
  {
   "cell_type": "code",
   "execution_count": 128,
   "metadata": {},
   "outputs": [
    {
     "data": {
      "image/png": "[encoded data removed]",
      "text/latex": [
       "$$\\left [ x + y = a, \\quad x + y = b, \\quad \\frac{y}{x} = c, \\quad \\frac{y}{x} = d\\right ]$$"
      ],
      "text/plain": [
       "⎡                      y      y    ⎤\n",
       "⎢x + y = a, x + y = b, ─ = c, ─ = d⎥\n",
       "⎣                      x      x    ⎦"
      ]
     },
     "execution_count": 128,
     "metadata": {},
     "output_type": "execute_result"
    }
   ],
   "source": [
    "lines = [sp.Eq(x+y,a), sp.Eq(x+y,b), sp.Eq(y/x,c), sp.Eq(y/x,d)]\n",
    "lines"
   ]
  },
  {
   "cell_type": "markdown",
   "metadata": {},
   "source": [
    "Обозначим переменные, через которые заменим $x$ и $y$"
   ]
  },
  {
   "cell_type": "code",
   "execution_count": 129,
   "metadata": {},
   "outputs": [],
   "source": [
    "variables = [t,p]"
   ]
  },
  {
   "cell_type": "markdown",
   "metadata": {},
   "source": [
    "Выражаем $x$ и $y$ через новые переменные"
   ]
  },
  {
   "cell_type": "code",
   "execution_count": 136,
   "metadata": {},
   "outputs": [
    {
     "data": {
      "image/png": "[encoded data removed]",
      "text/latex": [
       "$$\\left \\{ x : \\frac{t}{p + 1}, \\quad y : \\frac{p t}{p + 1}\\right \\}$$"
      ],
      "text/plain": [
       "⎧     t        p⋅t ⎫\n",
       "⎨x: ─────, y: ─────⎬\n",
       "⎩   p + 1     p + 1⎭"
      ]
     },
     "execution_count": 136,
     "metadata": {},
     "output_type": "execute_result"
    }
   ],
   "source": [
    "conds = [sp.Eq(x+y,t),sp.Eq(y/x,p)]\n",
    "sol = sp.solve(conds,(x,y))\n",
    "sol"
   ]
  },
  {
   "cell_type": "markdown",
   "metadata": {},
   "source": [
    "Задаем матрицу и считаем якобиан"
   ]
  },
  {
   "cell_type": "code",
   "execution_count": 140,
   "metadata": {},
   "outputs": [
    {
     "data": {
      "text/latex": [
       "$$\\left[\\begin{matrix}\\frac{t}{p + 1}\\\\\\frac{p t}{p + 1}\\end{matrix}\\right]$$"
      ],
      "text/plain": [
       "⎡  t  ⎤\n",
       "⎢─────⎥\n",
       "⎢p + 1⎥\n",
       "⎢     ⎥\n",
       "⎢ p⋅t ⎥\n",
       "⎢─────⎥\n",
       "⎣p + 1⎦"
      ]
     },
     "execution_count": 140,
     "metadata": {},
     "output_type": "execute_result"
    }
   ],
   "source": [
    "sp.Matrix(list(sol.values())[::-1])"
   ]
  },
  {
   "cell_type": "code",
   "execution_count": 143,
   "metadata": {},
   "outputs": [
    {
     "data": {
      "text/latex": [
       "$$\\left[\\begin{matrix}\\frac{1}{p + 1} & - \\frac{t}{\\left(p + 1\\right)^{2}}\\\\\\frac{p}{p + 1} & - \\frac{p t}{\\left(p + 1\\right)^{2}} + \\frac{t}{p + 1}\\end{matrix}\\right]$$"
      ],
      "text/plain": [
       "⎡  1           -t         ⎤\n",
       "⎢─────       ────────     ⎥\n",
       "⎢p + 1              2     ⎥\n",
       "⎢            (p + 1)      ⎥\n",
       "⎢                         ⎥\n",
       "⎢  p        p⋅t        t  ⎥\n",
       "⎢─────  - ──────── + ─────⎥\n",
       "⎢p + 1           2   p + 1⎥\n",
       "⎣         (p + 1)         ⎦"
      ]
     },
     "execution_count": 143,
     "metadata": {},
     "output_type": "execute_result"
    }
   ],
   "source": [
    "sp.Matrix(list(sol.values())[::-1]).jacobian(sp.Matrix(variables))"
   ]
  },
  {
   "cell_type": "code",
   "execution_count": 146,
   "metadata": {},
   "outputs": [
    {
     "data": {
      "image/png": "[encoded data removed]",
      "text/latex": [
       "$$\\frac{t}{\\left(p + 1\\right)^{2}}$$"
      ],
      "text/plain": [
       "   t    \n",
       "────────\n",
       "       2\n",
       "(p + 1) "
      ]
     },
     "execution_count": 146,
     "metadata": {},
     "output_type": "execute_result"
    }
   ],
   "source": [
    "J = sp.det(sp.Matrix(list(sol.values())[::-1]).jacobian(sp.Matrix(variables)))\n",
    "J = J.simplify()\n",
    "J  #Якобиан"
   ]
  },
  {
   "cell_type": "markdown",
   "metadata": {},
   "source": [
    "В новой системе координат берем кратный интеграл от якобиана по новым переменных в указанных пределах"
   ]
  },
  {
   "cell_type": "code",
   "execution_count": 145,
   "metadata": {},
   "outputs": [
    {
     "data": {
      "image/png": "[encoded data removed]",
      "text/latex": [
       "$$\\frac{\\left(a - b\\right) \\left(a + b\\right) \\left(c - d\\right)}{2 \\left(c + 1\\right) \\left(d + 1\\right)}$$"
      ],
      "text/plain": [
       "(a - b)⋅(a + b)⋅(c - d)\n",
       "───────────────────────\n",
       "   2⋅(c + 1)⋅(d + 1)   "
      ]
     },
     "execution_count": 145,
     "metadata": {},
     "output_type": "execute_result"
    }
   ],
   "source": [
    "sp.integrate(J,(t,a,b),(p,c,d)).factor()"
   ]
  }
 ],
 "metadata": {
  "kernelspec": {
   "display_name": "Python 3",
   "language": "python",
   "name": "python3"
  },
  "language_info": {
   "codemirror_mode": {
    "name": "ipython",
    "version": 3
   },
   "file_extension": ".py",
   "mimetype": "text/x-python",
   "name": "python",
   "nbconvert_exporter": "python",
   "pygments_lexer": "ipython3",
   "version": "3.7.1"
  }
 },
 "nbformat": 4,
 "nbformat_minor": 2
}
