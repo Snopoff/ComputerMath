{
 "cells": [
  {
   "cell_type": "markdown",
   "metadata": {},
   "source": [
    "## Контрольная работа №5"
   ]
  },
  {
   "cell_type": "markdown",
   "metadata": {},
   "source": [
    "### Снопов Павел, 2 курс, 5 группа, КИМ №86"
   ]
  },
  {
   "cell_type": "code",
   "execution_count": 1,
   "metadata": {},
   "outputs": [],
   "source": [
    "import sympy as sp\n",
    "sp.init_printing()"
   ]
  },
  {
   "cell_type": "markdown",
   "metadata": {},
   "source": [
    "#### Номер 1"
   ]
  },
  {
   "cell_type": "code",
   "execution_count": 79,
   "metadata": {},
   "outputs": [
    {
     "data": {
      "image/png": "[encoded data removed]",
      "text/latex": [
       "$$k = \\frac{Volume}{X}$$"
      ],
      "text/plain": [
       "    Volume\n",
       "k = ──────\n",
       "      X   "
      ]
     },
     "execution_count": 79,
     "metadata": {},
     "output_type": "execute_result"
    }
   ],
   "source": [
    "Volume, X, Speed, t, k = sp.symbols('Volume, X, Speed, t, k')  #Volume - объем соли; X - общий объем\n",
    "X = 10*Volume\n"
   ]
  },
  {
   "cell_type": "code",
   "execution_count": null,
   "metadata": {},
   "outputs": [],
   "source": []
  },
  {
   "cell_type": "markdown",
   "metadata": {},
   "source": [
    "#### Номер 2"
   ]
  },
  {
   "cell_type": "code",
   "execution_count": 4,
   "metadata": {},
   "outputs": [],
   "source": [
    "x, y = sp.symbols(\"x,y\")"
   ]
  },
  {
   "cell_type": "code",
   "execution_count": 12,
   "metadata": {},
   "outputs": [
    {
     "data": {
      "image/png": "[encoded data removed]",
      "text/latex": [
       "$$x^{2} - y^{2} - 4 y + 8 = 0$$"
      ],
      "text/plain": [
       " 2    2              \n",
       "x  - y  - 4⋅y + 8 = 0"
      ]
     },
     "execution_count": 12,
     "metadata": {},
     "output_type": "execute_result"
    }
   ],
   "source": [
    "Eq1 = sp.Eq(x**2-4*y-y**2+8)\n",
    "Eq2 = sp.Eq(x*y,4)\n",
    "Eq3 = sp.Eq(y,x+3)\n",
    "Eq1"
   ]
  },
  {
   "cell_type": "code",
   "execution_count": 11,
   "metadata": {},
   "outputs": [
    {
     "data": {
      "image/png": "[encoded data removed]",
      "text/plain": [
       "<Figure size 432x288 with 1 Axes>"
      ]
     },
     "metadata": {
      "needs_background": "light"
     },
     "output_type": "display_data"
    }
   ],
   "source": [
    "plots = sp.plot_implicit(Eq1, show = False, line_color = \"red\")\n",
    "plots.append(sp.plot_implicit(Eq2, show = False, line_color = \"black\")[0])\n",
    "plots.append(sp.plot_implicit(Eq3, show = False, line_color = \"green\")[0])\n",
    "plots.show()"
   ]
  },
  {
   "cell_type": "markdown",
   "metadata": {},
   "source": [
    "Запишем функции, составленные из приведенных выше уравнений:"
   ]
  },
  {
   "cell_type": "code",
   "execution_count": 67,
   "metadata": {},
   "outputs": [],
   "source": [
    "f = sp.Function(\"f\", real = True)(x)  #соответствует Eq1 - red\n",
    "f = sp.sqrt(x**2+4) + 2 \n",
    "g = sp.Function(\"g\", real = True)(x)  #соответствует Eq2 - black\n",
    "g = 4/x\n",
    "h = sp.Function(\"h\", real = True)(x)  #соответствует Eq3 - green\n",
    "h = x+3"
   ]
  },
  {
   "cell_type": "markdown",
   "metadata": {},
   "source": [
    "Найдем точки пересечения функций:"
   ]
  },
  {
   "cell_type": "code",
   "execution_count": 31,
   "metadata": {},
   "outputs": [
    {
     "data": {
      "image/png": "[encoded data removed]",
      "text/latex": [
       "$$\\left ( 2, \\quad 2\\right )$$"
      ],
      "text/plain": [
       "(2, 2)"
      ]
     },
     "execution_count": 31,
     "metadata": {},
     "output_type": "execute_result"
    }
   ],
   "source": [
    "points1 = sp.solve([Eq1,Eq2], (x,y))[0]  #red-black\n",
    "points1"
   ]
  },
  {
   "cell_type": "code",
   "execution_count": 34,
   "metadata": {},
   "outputs": [
    {
     "data": {
      "image/png": "[encoded data removed]",
      "text/latex": [
       "$$\\left ( 1, \\quad 4\\right )$$"
      ],
      "text/plain": [
       "(1, 4)"
      ]
     },
     "execution_count": 34,
     "metadata": {},
     "output_type": "execute_result"
    }
   ],
   "source": [
    "points2 = sp.solve([Eq2,Eq3], (x,y))[1]  #black-green\n",
    "points2"
   ]
  },
  {
   "cell_type": "code",
   "execution_count": 38,
   "metadata": {},
   "outputs": [
    {
     "data": {
      "image/png": "[encoded data removed]",
      "text/latex": [
       "$$\\left ( - \\frac{13}{10}, \\quad \\frac{17}{10}\\right )$$"
      ],
      "text/plain": [
       "⎛-13   17⎞\n",
       "⎜────, ──⎟\n",
       "⎝ 10   10⎠"
      ]
     },
     "execution_count": 38,
     "metadata": {},
     "output_type": "execute_result"
    }
   ],
   "source": [
    "points3 = sp.solve([Eq1,Eq3], (x,y))[0]  #red-green\n",
    "points3"
   ]
  },
  {
   "cell_type": "code",
   "execution_count": 72,
   "metadata": {},
   "outputs": [
    {
     "data": {
      "image/png": "[encoded data removed]",
      "text/latex": [
       "$$- \\sqrt{5} - 4 \\operatorname{asinh}{\\left (\\frac{1}{2} \\right )} - \\frac{13 \\sqrt{569}}{200} - 2 \\operatorname{asinh}{\\left (\\frac{13}{20} \\right )} + \\log{\\left (\\frac{\\left(1 + \\sqrt{2}\\right)^{2}}{16} \\right )} + 2 \\sqrt{2} + \\frac{791}{200}$$"
      ],
      "text/plain": [
       "                                                ⎛        2⎞             \n",
       "                     13⋅√569          ⎛13⎞      ⎜(1 + √2) ⎟          791\n",
       "-√5 - 4⋅asinh(1/2) - ─────── - 2⋅asinh⎜──⎟ + log⎜─────────⎟ + 2⋅√2 + ───\n",
       "                       200            ⎝20⎠      ⎝    16   ⎠          200"
      ]
     },
     "execution_count": 72,
     "metadata": {},
     "output_type": "execute_result"
    }
   ],
   "source": [
    "Int = sp.integrate(h, (x,points3[0], points2[0])) - sp.integrate(f, (x,points3[0], points2[0]))  #1-ая область\n",
    "Int += sp.integrate(f, (x,points2[0], points1[0])) - sp.integrate(g, (x, points2[0], points1[0]))  #2-ая область\n",
    "Int = Int.simplify()\n",
    "Int"
   ]
  },
  {
   "cell_type": "markdown",
   "metadata": {},
   "source": [
    "#### Номер 3"
   ]
  },
  {
   "cell_type": "code",
   "execution_count": 47,
   "metadata": {},
   "outputs": [],
   "source": [
    "x,y,a,b,c,d = sp.symbols('x,y,a,b,c,d')"
   ]
  },
  {
   "cell_type": "code",
   "execution_count": null,
   "metadata": {},
   "outputs": [],
   "source": []
  }
 ],
 "metadata": {
  "kernelspec": {
   "display_name": "Python 3",
   "language": "python",
   "name": "python3"
  },
  "language_info": {
   "codemirror_mode": {
    "name": "ipython",
    "version": 3
   },
   "file_extension": ".py",
   "mimetype": "text/x-python",
   "name": "python",
   "nbconvert_exporter": "python",
   "pygments_lexer": "ipython3",
   "version": "3.7.1"
  }
 },
 "nbformat": 4,
 "nbformat_minor": 2
}
