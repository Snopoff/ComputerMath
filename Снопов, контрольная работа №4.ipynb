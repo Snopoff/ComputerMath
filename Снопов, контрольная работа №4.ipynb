{
 "cells": [
  {
   "cell_type": "markdown",
   "metadata": {},
   "source": [
    "## Контрольная работа №4"
   ]
  },
  {
   "cell_type": "markdown",
   "metadata": {},
   "source": [
    "### Снопов Павел, 2 курс, 5 группа, КИМ №92"
   ]
  },
  {
   "cell_type": "code",
   "execution_count": 1,
   "metadata": {},
   "outputs": [],
   "source": [
    "import sympy as sp\n",
    "sp.init_printing()"
   ]
  },
  {
   "cell_type": "markdown",
   "metadata": {},
   "source": [
    "#### Номер 1"
   ]
  },
  {
   "cell_type": "code",
   "execution_count": 2,
   "metadata": {},
   "outputs": [],
   "source": [
    "x, b, a, n, i = sp.symbols('x, b, a, n, i')"
   ]
  },
  {
   "cell_type": "code",
   "execution_count": 3,
   "metadata": {},
   "outputs": [
    {
     "data": {
      "image/png": "[encoded data removed]",
      "text/latex": [
       "$$\\frac{b x^{2}}{a^{2}}$$"
      ],
      "text/plain": [
       "   2\n",
       "b⋅x \n",
       "────\n",
       "  2 \n",
       " a  "
      ]
     },
     "execution_count": 3,
     "metadata": {},
     "output_type": "execute_result"
    }
   ],
   "source": [
    "f = b*x**2/a**2\n",
    "f"
   ]
  },
  {
   "cell_type": "code",
   "execution_count": 9,
   "metadata": {},
   "outputs": [
    {
     "data": {
      "image/png": "[encoded data removed]",
      "text/latex": [
       "$$\\sum_{i=1}^{n} \\frac{b}{n^{2}} \\left(i + 1\\right)^{2} \\left(- \\frac{a i}{n} + \\frac{a}{n} \\left(i + 1\\right)\\right)$$"
      ],
      "text/plain": [
       "  n                                 \n",
       "_____                               \n",
       "╲                                   \n",
       " ╲             2 ⎛  a⋅i   a⋅(i + 1)⎞\n",
       "  ╲   b⋅(i + 1) ⋅⎜- ─── + ─────────⎟\n",
       "   ╲             ⎝   n        n    ⎠\n",
       "   ╱  ──────────────────────────────\n",
       "  ╱                  2              \n",
       " ╱                  n               \n",
       "╱                                   \n",
       "‾‾‾‾‾                               \n",
       "i = 1                               "
      ]
     },
     "execution_count": 9,
     "metadata": {},
     "output_type": "execute_result"
    }
   ],
   "source": [
    "sn = sp.Sum(((a/n * (i+1)) - (a/n * i)) * f.subs(x, (a/n * (i+1))), (i,1,n))\n",
    "sn"
   ]
  },
  {
   "cell_type": "code",
   "execution_count": 10,
   "metadata": {},
   "outputs": [
    {
     "data": {
      "image/png": "[encoded data removed]",
      "text/latex": [
       "$$\\frac{a b}{3}$$"
      ],
      "text/plain": [
       "a⋅b\n",
       "───\n",
       " 3 "
      ]
     },
     "execution_count": 10,
     "metadata": {},
     "output_type": "execute_result"
    }
   ],
   "source": [
    "sp.limit(sn.doit(), n, sp.oo)"
   ]
  },
  {
   "cell_type": "code",
   "execution_count": 79,
   "metadata": {},
   "outputs": [
    {
     "data": {
      "image/png": "[encoded data removed]",
      "text/latex": [
       "$$\\frac{a b}{3}$$"
      ],
      "text/plain": [
       "a⋅b\n",
       "───\n",
       " 3 "
      ]
     },
     "execution_count": 79,
     "metadata": {},
     "output_type": "execute_result"
    }
   ],
   "source": [
    "sp.integrate(f, (x, 0, a))"
   ]
  },
  {
   "cell_type": "markdown",
   "metadata": {},
   "source": [
    "#### Номер 2"
   ]
  },
  {
   "cell_type": "code",
   "execution_count": 29,
   "metadata": {},
   "outputs": [
    {
     "data": {
      "image/png": "[encoded data removed]",
      "text/latex": [
       "$$Point2D(2, -5)$$"
      ],
      "text/plain": [
       "Point2D(2, -5)"
      ]
     },
     "execution_count": 29,
     "metadata": {},
     "output_type": "execute_result"
    }
   ],
   "source": [
    "x, x0 = sp.symbols('x, x0')\n",
    "p = sp.Point(2,-5)\n",
    "p"
   ]
  },
  {
   "cell_type": "code",
   "execution_count": 4,
   "metadata": {},
   "outputs": [
    {
     "data": {
      "image/png": "[encoded data removed]",
      "text/latex": [
       "$$x^{2} - 4 x + 3$$"
      ],
      "text/plain": [
       " 2          \n",
       "x  - 4⋅x + 3"
      ]
     },
     "execution_count": 4,
     "metadata": {},
     "output_type": "execute_result"
    }
   ],
   "source": [
    "y = x**2 - 4*x + 3\n",
    "y"
   ]
  },
  {
   "cell_type": "code",
   "execution_count": 12,
   "metadata": {},
   "outputs": [
    {
     "data": {
      "image/png": "[encoded data removed]",
      "text/latex": [
       "$$x_{0}^{2} - 4 x_{0} + \\left(x - x_{0}\\right) \\left(2 x_{0} - 4\\right) + 3$$"
      ],
      "text/plain": [
       "  2                                 \n",
       "x₀  - 4⋅x₀ + (x - x₀)⋅(2⋅x₀ - 4) + 3"
      ]
     },
     "execution_count": 12,
     "metadata": {},
     "output_type": "execute_result"
    }
   ],
   "source": [
    "tangent = sp.diff(y).subs(x, x0)*(x-x0) + y.subs(x,x0)\n",
    "tangent"
   ]
  },
  {
   "cell_type": "code",
   "execution_count": 16,
   "metadata": {},
   "outputs": [
    {
     "data": {
      "image/png": "[encoded data removed]",
      "text/latex": [
       "$$\\left [ 0, \\quad 4\\right ]$$"
      ],
      "text/plain": [
       "[0, 4]"
      ]
     },
     "execution_count": 16,
     "metadata": {},
     "output_type": "execute_result"
    }
   ],
   "source": [
    "sol = sp.solve(sp.Eq(tangent.subs(x,p[0]),p[1]))\n",
    "sol"
   ]
  },
  {
   "cell_type": "code",
   "execution_count": 19,
   "metadata": {},
   "outputs": [
    {
     "data": {
      "image/png": "[encoded data removed]",
      "text/plain": [
       "<Figure size 432x288 with 1 Axes>"
      ]
     },
     "metadata": {
      "needs_background": "light"
     },
     "output_type": "display_data"
    }
   ],
   "source": [
    "p = sp.plot(y, xlim = [-6,6], ylim = [-6,6], show = False, line_color = 'black')\n",
    "for i in range(len(sol)):\n",
    "    p.append(sp.plot(tangent.subs(x0, sol[i]), show = False, line_color = 'green')[0])\n",
    "p.show()"
   ]
  },
  {
   "cell_type": "markdown",
   "metadata": {},
   "source": [
    "#### Номер 3"
   ]
  },
  {
   "cell_type": "code",
   "execution_count": 60,
   "metadata": {},
   "outputs": [],
   "source": [
    "S, x, y, a, b = sp.symbols('S, x, y, a, b')"
   ]
  },
  {
   "cell_type": "code",
   "execution_count": 61,
   "metadata": {},
   "outputs": [],
   "source": [
    "y = b/a * (a - x)"
   ]
  },
  {
   "cell_type": "code",
   "execution_count": 62,
   "metadata": {},
   "outputs": [],
   "source": [
    "S = x*y"
   ]
  },
  {
   "cell_type": "code",
   "execution_count": 63,
   "metadata": {},
   "outputs": [
    {
     "data": {
      "image/png": "[encoded data removed]",
      "text/latex": [
       "$$\\frac{b x}{a} \\left(a - x\\right)$$"
      ],
      "text/plain": [
       "b⋅x⋅(a - x)\n",
       "───────────\n",
       "     a     "
      ]
     },
     "execution_count": 63,
     "metadata": {},
     "output_type": "execute_result"
    }
   ],
   "source": [
    "S"
   ]
  },
  {
   "cell_type": "code",
   "execution_count": 65,
   "metadata": {},
   "outputs": [
    {
     "data": {
      "image/png": "[encoded data removed]",
      "text/latex": [
       "$$\\left [ \\frac{a}{2}\\right ]$$"
      ],
      "text/plain": [
       "⎡a⎤\n",
       "⎢─⎥\n",
       "⎣2⎦"
      ]
     },
     "execution_count": 65,
     "metadata": {},
     "output_type": "execute_result"
    }
   ],
   "source": [
    "sol_x = sp.solve(S.diff(x), x)\n",
    "sol_x"
   ]
  },
  {
   "cell_type": "code",
   "execution_count": 71,
   "metadata": {},
   "outputs": [
    {
     "data": {
      "image/png": "[encoded data removed]",
      "text/latex": [
       "$$\\frac{b}{2}$$"
      ],
      "text/plain": [
       "b\n",
       "─\n",
       "2"
      ]
     },
     "execution_count": 71,
     "metadata": {},
     "output_type": "execute_result"
    }
   ],
   "source": [
    "sol_y = y.subs(x,sol_x[0])\n",
    "sol_y"
   ]
  },
  {
   "cell_type": "code",
   "execution_count": 75,
   "metadata": {},
   "outputs": [
    {
     "data": {
      "image/png": "[encoded data removed]",
      "text/latex": [
       "$$\\frac{a b}{4}$$"
      ],
      "text/plain": [
       "a⋅b\n",
       "───\n",
       " 4 "
      ]
     },
     "execution_count": 75,
     "metadata": {},
     "output_type": "execute_result"
    }
   ],
   "source": [
    "max_square = sol_x[0]*sol_y\n",
    "max_square"
   ]
  }
 ],
 "metadata": {
  "kernelspec": {
   "display_name": "Python 3",
   "language": "python",
   "name": "python3"
  },
  "language_info": {
   "codemirror_mode": {
    "name": "ipython",
    "version": 3
   },
   "file_extension": ".py",
   "mimetype": "text/x-python",
   "name": "python",
   "nbconvert_exporter": "python",
   "pygments_lexer": "ipython3",
   "version": "3.7.0"
  }
 },
 "nbformat": 4,
 "nbformat_minor": 2
}
